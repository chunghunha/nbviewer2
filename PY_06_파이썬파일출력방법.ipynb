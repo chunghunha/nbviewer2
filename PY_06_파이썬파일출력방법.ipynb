{
 "cells": [
  {
   "cell_type": "raw",
   "metadata": {
    "vscode": {
     "languageId": "raw"
    }
   },
   "source": [
    "---\n",
    "title: \"프로그램 파일 출력 방법\"\n",
    "subtitle: \"프로그래밍한 코드를 출력하는 방법\"\n",
    "author: \"Chunghun Ha\"\n",
    "institute: \"Hongik University\"\n",
    "date: \"2024-10-11\"\n",
    "date-modified: today\n",
    "categories: [publication]\n",
    "---"
   ]
  },
  {
   "cell_type": "markdown",
   "metadata": {},
   "source": [
    "# Jupyter Notebook 파일(파일명.ipynb)\n",
    "\n",
    "- ipynb 파일은 실행을 시켜, *code와 output이 저장된 상태*이어야 함 \n",
    "\n",
    "### 1. nbviewer로 출력하기\n",
    "\n",
    "1. Github 리포지토리(Public)에 ipynb 파일을 업로드\n",
    "2. Github 리포지토리 주소(또는 파일주소)을 복사. 예)https://github.com/chunghunha/Notebook\n",
    "3. [nbviewer](https://nbviewer.org/)로 이동\n",
    "4. nbviewer에 Github 주소를 붙여넣고 Go 버튼 클릭\n",
    "5. 웹브라우저에 ipynb 파일이 출력됨\n",
    "\n",
    "![](../image/WP_11_파이썬파일출력방법-2024-56-05.png)\n",
    "![](../image/WP_11_파이썬파일출력방법-2024-56-51.png)\n",
    "\n",
    "::: {.callout-tip title=\"웹브라우저에서 화면을 PDF로 저장(출력)하기\"}\n",
    "1. 웹브라우저에서 인쇄를 클릭\n",
    "2. 대상(또는 프린터)을 \"PDF로 저장\" 선택\n",
    "3. 설정 더보기에서 용지크기, 여백, 배율 등을 설정가능\n",
    "3. 저장 위치에서 파일 확인\n",
    ":::\n",
    "\n",
    "### 2. Jupyter Notebook에서 HTML로 저장하기\n",
    "1. Jupyter Notebook을 실행\n",
    "2. 내보내기 -> HTML로 저장\n",
    "3. 하나의 HTML 파일로 저장되며, 이를 웹브라우저에서 열어서 PDF로 저장 가능\n",
    "\n",
    "::: {.callout-warning}\n",
    "## Jupyter Notebook에서 PDF로 직접 내보내기는 권장하지 않음\n",
    "- 이것은 책자 형태로 내보내기이므로 모양이 예상과 다를 수 있음\n",
    "- 또한, 한글은 잘 동작하지 않아 이를 해소하기 위해서는 추가적으로 복잡한 설정이 필요함\n",
    ":::"
   ]
  },
  {
   "cell_type": "markdown",
   "metadata": {},
   "source": [
    "# Python Script 파일(파일명.py)\n",
    "\n",
    "### 1. 단순한 방법\n",
    "1. Python Script는 코드, 실행결과, 그림이 모두 다른 창으로 열림\n",
    "2. 따라서, Word나 아래한글 등의 문서로 각각을 복사하여 붙여넣기 해야 함\n",
    "3. 이후에 문서를 PDF로 변환하면 됨\n",
    "\n",
    "### 2. Jupyter Notebook으로 변환하여 출력하기\n",
    "1. .py 파일을 \"대화형창에서 실행\"으로 실행하면, ipython에서 실행됨\n",
    "2. 이후 저장하면 ipynb 파일로 저장됨\n",
    "3. 또는 내보내기를 이용하여 HTML로 저장 가능\n",
    "4. 이후는 .ipynb와 동일"
   ]
  },
  {
   "cell_type": "markdown",
   "metadata": {},
   "source": [
    "# R Script 파일(파일명.R) (RStudio 사용)\n",
    "\n",
    "![](../image/WP_11_파이썬파일출력방법-2024-18-05.png){width=50%}\n",
    "\n",
    "1. R 스크립트를 작성한 후, \"Source\"로 실행. 이때, 코드와 결과가 모두 출력됨\n",
    "2. 만약, 코드가 출력이 안되면, \"Source\" 화살표를 클릭하면, \"Source with Echo\"를 클릭\n",
    "3. Word나 아래한글 등의 문서에 Console 창의 코드와 결과를 복사하여 붙여넣기\n",
    "4. Plot 창의 그림을 복사하여 문서에 붙여넣기\n",
    "5. 이후에 문서를 PDF로 변환하면 됨"
   ]
  }
 ],
 "metadata": {
  "kernelspec": {
   "display_name": "ds",
   "language": "python",
   "name": "python3"
  },
  "language_info": {
   "codemirror_mode": {
    "name": "ipython",
    "version": 3
   },
   "file_extension": ".py",
   "mimetype": "text/x-python",
   "name": "python",
   "nbconvert_exporter": "python",
   "pygments_lexer": "ipython3",
   "version": "3.12.5"
  }
 },
 "nbformat": 4,
 "nbformat_minor": 2
}
